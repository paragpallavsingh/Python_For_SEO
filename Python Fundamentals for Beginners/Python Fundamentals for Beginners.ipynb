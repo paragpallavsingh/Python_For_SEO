{
 "cells": [
  {
   "cell_type": "markdown",
   "id": "672e04cb",
   "metadata": {},
   "source": [
    "<p><img src='https://paragpallavsingh.com/wp-content/uploads/2021/05/Parag-Pallav-Talks-300px-about.png' align='left' width=150/></p>\n",
    "\n",
    "\n",
    "# Python Fundamentals for Beginners\n",
    "### ✨[Parag Palla Talks](https://paragpallavsingh.com)"
   ]
  },
  {
   "cell_type": "markdown",
   "id": "79622fd8",
   "metadata": {},
   "source": [
    "This notebook contains all the coding examples mentioned in the blog"
   ]
  },
  {
   "cell_type": "code",
   "execution_count": 1,
   "id": "d687a511",
   "metadata": {},
   "outputs": [
    {
     "name": "stdout",
     "output_type": "stream",
     "text": [
      "Microsoft Windows [Version 10.0.19043.1466]\r\n",
      "(c) Microsoft Corporation. All rights reserved.\r\n",
      "\r\n",
      "C:\\Users\\ppallavs\\Downloads\\beautifulSoup>python --version\n",
      "Python 3.9.10\r\n",
      "\r\n",
      "C:\\Users\\ppallavs\\Downloads\\beautifulSoup>"
     ]
    }
   ],
   "source": [
    "%%cmd\n",
    "python --version"
   ]
  },
  {
   "cell_type": "code",
   "execution_count": 2,
   "id": "eb6d4eab",
   "metadata": {},
   "outputs": [
    {
     "name": "stdout",
     "output_type": "stream",
     "text": [
      " data type of a: <class 'int'> \n",
      " data type of b: <class 'float'> \n",
      " data type of c: <class 'str'> \n",
      " data type of c: <class 'bool'>\n"
     ]
    }
   ],
   "source": [
    "a = 10\n",
    "b = 10.0\n",
    "c = \"Python SEO Fundamentals\"\n",
    "d = True\n",
    " \n",
    "print(\n",
    "      \" data type of a:\",type(a),\n",
    "      \"\\n\",\"data type of b:\",type(b),\n",
    "      \"\\n\",\"data type of c:\",type(c),\n",
    "      \"\\n\",\"data type of c:\",type(d),\n",
    "     )"
   ]
  },
  {
   "cell_type": "code",
   "execution_count": 3,
   "id": "56e3e207",
   "metadata": {},
   "outputs": [
    {
     "name": "stdout",
     "output_type": "stream",
     "text": [
      "This is a normal line\n"
     ]
    }
   ],
   "source": [
    "# This is a comment\n",
    "print(\"This is a normal line\")"
   ]
  },
  {
   "cell_type": "code",
   "execution_count": 4,
   "id": "88583419",
   "metadata": {},
   "outputs": [
    {
     "name": "stdout",
     "output_type": "stream",
     "text": [
      "The above 3 lines are ignored\n"
     ]
    }
   ],
   "source": [
    "\"\"\"\n",
    "This is going\n",
    "to be a multi-line\n",
    "comment in Python\n",
    "\"\"\"\n",
    "print(\"The above 3 lines are ignored\")"
   ]
  },
  {
   "cell_type": "code",
   "execution_count": 5,
   "id": "33721d90",
   "metadata": {},
   "outputs": [
    {
     "name": "stdout",
     "output_type": "stream",
     "text": [
      " <class 'list'> :  ['title', 'description', 'header', 'url', 'content'] \n",
      " <class 'tuple'> :  ('ahrefs', 'semrush', 'search engine journal', 'backlinko') \n",
      " <class 'set'> :  {'marketing', 'content', 'automation', 'python', 'seo'} \n",
      " <class 'dict'> :  {'name': 'author', 'country': 'india', 'work': 'blogging'}\n"
     ]
    }
   ],
   "source": [
    "example_list = ['title','description','header','url','content']\n",
    "example_tuple = ('ahrefs','semrush','search engine journal','backlinko')\n",
    "example_set = {'seo','python','content','automation','marketing'}\n",
    "example_dict = {\"name\":\"author\",\"country\":\"india\",\"work\":\"blogging\"}\n",
    " \n",
    "print(\"\",\n",
    "    type(example_list),\": \",example_list,\"\\n\",\n",
    "    type(example_tuple),\": \",example_tuple,\"\\n\",\n",
    "    type(example_set),\": \",example_set,\"\\n\",\n",
    "    type(example_dict),\": \",example_dict\n",
    "    )"
   ]
  },
  {
   "cell_type": "code",
   "execution_count": 6,
   "id": "d84f840a",
   "metadata": {},
   "outputs": [
    {
     "name": "stdout",
     "output_type": "stream",
     "text": [
      "Hello Python Fundamentals for SEO and Automation!\n"
     ]
    }
   ],
   "source": [
    "print(\"Hello Python Fundamentals for SEO and Automation!\")"
   ]
  },
  {
   "cell_type": "code",
   "execution_count": 7,
   "id": "65931fc4",
   "metadata": {},
   "outputs": [
    {
     "data": {
      "text/plain": [
       "int"
      ]
     },
     "execution_count": 7,
     "metadata": {},
     "output_type": "execute_result"
    }
   ],
   "source": [
    "type(3) # verify that this is an integer type"
   ]
  },
  {
   "cell_type": "markdown",
   "id": "91aa79d6",
   "metadata": {},
   "source": [
    "typecast 3 into float and check again"
   ]
  },
  {
   "cell_type": "code",
   "execution_count": 8,
   "id": "a5e4b88a",
   "metadata": {},
   "outputs": [
    {
     "data": {
      "text/plain": [
       "float"
      ]
     },
     "execution_count": 8,
     "metadata": {},
     "output_type": "execute_result"
    }
   ],
   "source": [
    "type(float(3))"
   ]
  },
  {
   "cell_type": "code",
   "execution_count": 9,
   "id": "6065a1a2",
   "metadata": {},
   "outputs": [
    {
     "data": {
      "text/plain": [
       "3"
      ]
     },
     "execution_count": 9,
     "metadata": {},
     "output_type": "execute_result"
    }
   ],
   "source": [
    "int(3.6)"
   ]
  },
  {
   "cell_type": "code",
   "execution_count": 10,
   "id": "5f33207f",
   "metadata": {},
   "outputs": [
    {
     "ename": "ValueError",
     "evalue": "invalid literal for int() with base 10: '1 two'",
     "output_type": "error",
     "traceback": [
      "\u001b[1;31m---------------------------------------------------------------------------\u001b[0m",
      "\u001b[1;31mValueError\u001b[0m                                Traceback (most recent call last)",
      "\u001b[1;32m~\\AppData\\Local\\Temp/ipykernel_2464/876408490.py\u001b[0m in \u001b[0;36m<module>\u001b[1;34m\u001b[0m\n\u001b[1;32m----> 1\u001b[1;33m \u001b[0mint\u001b[0m\u001b[1;33m(\u001b[0m\u001b[1;34m'1 two'\u001b[0m\u001b[1;33m)\u001b[0m\u001b[1;33m\u001b[0m\u001b[1;33m\u001b[0m\u001b[0m\n\u001b[0m",
      "\u001b[1;31mValueError\u001b[0m: invalid literal for int() with base 10: '1 two'"
     ]
    }
   ],
   "source": [
    "int('1 two')"
   ]
  },
  {
   "cell_type": "code",
   "execution_count": 11,
   "id": "0cb8464f",
   "metadata": {},
   "outputs": [
    {
     "data": {
      "text/plain": [
       "71"
      ]
     },
     "execution_count": 11,
     "metadata": {},
     "output_type": "execute_result"
    }
   ],
   "source": [
    "#example 1\n",
    "40 + 16 + 7 + 8"
   ]
  },
  {
   "cell_type": "code",
   "execution_count": 12,
   "id": "87a9211a",
   "metadata": {},
   "outputs": [
    {
     "name": "stdout",
     "output_type": "stream",
     "text": [
      "speed:  66.67 km/h\n"
     ]
    }
   ],
   "source": [
    "#example 2\n",
    "distance = 200\n",
    "time = 3\n",
    "speed = distance/time\n",
    "print(\"speed: \",round(speed,2),\"km/h\")"
   ]
  },
  {
   "cell_type": "code",
   "execution_count": 13,
   "id": "b314059c",
   "metadata": {},
   "outputs": [
    {
     "name": "stdout",
     "output_type": "stream",
     "text": [
      "41.67\n"
     ]
    }
   ],
   "source": [
    "Maths = 30\n",
    "Science = 49\n",
    "Computer = 46\n",
    " \n",
    "Average = (Maths + Science + Computer)/3\n",
    "print(round(Average,2))"
   ]
  },
  {
   "cell_type": "code",
   "execution_count": 14,
   "id": "ebbbd880",
   "metadata": {},
   "outputs": [
    {
     "name": "stdout",
     "output_type": "stream",
     "text": [
      "1 2 3 4 5\n",
      "!@#$%^&\n",
      "this is an ideal string\n",
      "hY8r!d $+r!n6\n"
     ]
    }
   ],
   "source": [
    "str_digits = \"1 2 3 4 5\"\n",
    "str_sp_ch = \"!@#$%^&\"\n",
    "str_alpha = \"this is an ideal string\"\n",
    "str_al_num_sc = \"hY8r!d $+r!n6\"\n",
    "\n",
    "print(str_digits)\n",
    "print(str_sp_ch)\n",
    "print(str_alpha)\n",
    "print(str_al_num_sc)"
   ]
  },
  {
   "cell_type": "code",
   "execution_count": 16,
   "id": "c47a1504",
   "metadata": {},
   "outputs": [
    {
     "name": "stdout",
     "output_type": "stream",
     "text": [
      "M\n",
      "J\n",
      "o\n"
     ]
    }
   ],
   "source": [
    "Name = \"Michael Jackson\"\n",
    " \n",
    "print(Name[0]) # print first element in the string i.e. M\n",
    " \n",
    "print(Name[8]) # print J\n",
    " \n",
    "print(Name[-2]) # print o"
   ]
  },
  {
   "cell_type": "code",
   "execution_count": 17,
   "id": "fc92cd2a",
   "metadata": {},
   "outputs": [
    {
     "data": {
      "text/plain": [
       "15"
      ]
     },
     "execution_count": 17,
     "metadata": {},
     "output_type": "execute_result"
    }
   ],
   "source": [
    "len(Name)"
   ]
  },
  {
   "cell_type": "code",
   "execution_count": 18,
   "id": "0643c057",
   "metadata": {},
   "outputs": [],
   "source": [
    "first_name = Name[0:7]\n",
    "last_name = Name[8:15]"
   ]
  },
  {
   "cell_type": "code",
   "execution_count": 19,
   "id": "02f6e4b4",
   "metadata": {},
   "outputs": [
    {
     "name": "stdout",
     "output_type": "stream",
     "text": [
      "Michael\n",
      "Jackson\n"
     ]
    }
   ],
   "source": [
    "print(first_name)\n",
    "print(last_name)"
   ]
  },
  {
   "cell_type": "code",
   "execution_count": 20,
   "id": "9443df0e",
   "metadata": {},
   "outputs": [
    {
     "name": "stdout",
     "output_type": "stream",
     "text": [
      "Learn Python SEO from scratch\n"
     ]
    }
   ],
   "source": [
    "str1 = \"Learn Python SEO\"\n",
    "str2 = \"from scratch\"\n",
    "str3 = str1 + \" \" + str2 \n",
    "print(str3)"
   ]
  },
  {
   "cell_type": "code",
   "execution_count": 21,
   "id": "01141312",
   "metadata": {},
   "outputs": [
    {
     "name": "stdout",
     "output_type": "stream",
     "text": [
      "<class 'list'>\n"
     ]
    }
   ],
   "source": [
    "#list containing marks of 5 subjects\n",
    "marks = [36, 44, 49, 43, 42] \n",
    " \n",
    "#data type of a variable containing a group of objects within [ ].\n",
    "print(type(marks)) #output: <class 'list'>"
   ]
  },
  {
   "cell_type": "code",
   "execution_count": 22,
   "id": "0107cb29",
   "metadata": {},
   "outputs": [
    {
     "name": "stdout",
     "output_type": "stream",
     "text": [
      "['maths', 'physics', 'biology', 'chemistry', 'english']\n"
     ]
    }
   ],
   "source": [
    "#list of subjects\n",
    "subjects = ['maths','physics','biology','chemistry','english']\n",
    "print(subjects)"
   ]
  },
  {
   "cell_type": "code",
   "execution_count": 23,
   "id": "2f3a7653",
   "metadata": {},
   "outputs": [
    {
     "name": "stdout",
     "output_type": "stream",
     "text": [
      "['semrush', 'ahrefs', 'hoth', 'neilpatel', 'backlinko']\n"
     ]
    }
   ],
   "source": [
    "#list of popular blogs\n",
    "blogs = ['semrush','ahrefs','hoth','neilpatel','backlinko']\n",
    "print(blogs)"
   ]
  },
  {
   "cell_type": "code",
   "execution_count": 24,
   "id": "05bc53b6",
   "metadata": {},
   "outputs": [
    {
     "name": "stdout",
     "output_type": "stream",
     "text": [
      "[3, ['a', 'b'], 'learn', '$', 'P', 'y', 't', 'h', 'o', 'n']\n"
     ]
    }
   ],
   "source": [
    "#list containing items of different data type\n",
    "mix_list = [3, ['a','b'], 'learn', '$','P','y','t','h','o','n']\n",
    "print(mix_list)"
   ]
  },
  {
   "cell_type": "code",
   "execution_count": 25,
   "id": "a7153bd3",
   "metadata": {},
   "outputs": [
    {
     "data": {
      "text/plain": [
       "'ahrefs'"
      ]
     },
     "execution_count": 25,
     "metadata": {},
     "output_type": "execute_result"
    }
   ],
   "source": [
    "#taking blogs list from last example and printing the second blog name\n",
    "blogs[1]"
   ]
  },
  {
   "cell_type": "code",
   "execution_count": 26,
   "id": "eb8cd0e3",
   "metadata": {},
   "outputs": [
    {
     "data": {
      "text/plain": [
       "'neilpatel'"
      ]
     },
     "execution_count": 26,
     "metadata": {},
     "output_type": "execute_result"
    }
   ],
   "source": [
    "#getting 2nd blog from the end of the list\n",
    "blogs[-2]"
   ]
  },
  {
   "cell_type": "code",
   "execution_count": 27,
   "id": "7eee9dab",
   "metadata": {},
   "outputs": [
    {
     "name": "stdout",
     "output_type": "stream",
     "text": [
      "10\n"
     ]
    }
   ],
   "source": [
    "#print the length of mix_list from above example\n",
    "print(len(mix_list))"
   ]
  },
  {
   "cell_type": "code",
   "execution_count": 28,
   "id": "5c82d50c",
   "metadata": {},
   "outputs": [
    {
     "name": "stdout",
     "output_type": "stream",
     "text": [
      "[1, 2, 3, 4]\n"
     ]
    }
   ],
   "source": [
    "arr = [ 1,2,3,4,5,6,7]\n",
    " \n",
    "print(arr[0:4])"
   ]
  },
  {
   "cell_type": "code",
   "execution_count": 29,
   "id": "e63b9ded",
   "metadata": {},
   "outputs": [
    {
     "name": "stdout",
     "output_type": "stream",
     "text": [
      "[1, 3, 5, 7]\n"
     ]
    }
   ],
   "source": [
    "print(arr[0:7:2])"
   ]
  },
  {
   "cell_type": "code",
   "execution_count": 30,
   "id": "4b4cb4ca",
   "metadata": {},
   "outputs": [
    {
     "name": "stdout",
     "output_type": "stream",
     "text": [
      "[1, 2, 3, 4, 5, 6]\n"
     ]
    }
   ],
   "source": [
    "print(arr[:6])"
   ]
  },
  {
   "cell_type": "code",
   "execution_count": 31,
   "id": "6d781c62",
   "metadata": {},
   "outputs": [
    {
     "name": "stdout",
     "output_type": "stream",
     "text": [
      "[3, 5, 7]\n"
     ]
    }
   ],
   "source": [
    "print(arr[2::2])"
   ]
  },
  {
   "cell_type": "code",
   "execution_count": 32,
   "id": "05fad700",
   "metadata": {},
   "outputs": [
    {
     "name": "stdout",
     "output_type": "stream",
     "text": [
      "[2017, 2018, 2019, 2020, 2021, 2022]\n"
     ]
    }
   ],
   "source": [
    "year = [2017,2018,2020,2020,2021,2022] \n",
    "year[2] = 2019 #value at position 2 modified to 2019\n",
    "print(year)"
   ]
  },
  {
   "cell_type": "code",
   "execution_count": 33,
   "id": "7f4bee29",
   "metadata": {},
   "outputs": [
    {
     "name": "stdout",
     "output_type": "stream",
     "text": [
      "['red', 'white', 'brown', 'green', 'black', 'orange']\n"
     ]
    }
   ],
   "source": [
    "colors = ['red', 'c', 'python', 'java', 'black', 'orange',]\n",
    "colors[1:4] = ['white', 'brown', 'green'] #replace items in range(1,4)\n",
    "print(colors)"
   ]
  },
  {
   "cell_type": "code",
   "execution_count": 34,
   "id": "631ca3f7",
   "metadata": {},
   "outputs": [
    {
     "name": "stdout",
     "output_type": "stream",
     "text": [
      "['2000', '2001', '2002', '2020', '2021', '2022']\n"
     ]
    }
   ],
   "source": [
    "list1 = ['2000','2001','2002']\n",
    "list2 = ['2020','2021','2022']\n",
    "list3 = list1+list2\n",
    "print(list3)"
   ]
  },
  {
   "cell_type": "code",
   "execution_count": 35,
   "id": "852885b0",
   "metadata": {},
   "outputs": [
    {
     "name": "stdout",
     "output_type": "stream",
     "text": [
      "['prefix', 'url', 'suffix']\n",
      "['get', 'post', 'send', 'receive']\n"
     ]
    }
   ],
   "source": [
    "items = ['prefix', 'url', 'suffix', 'get', 'post', 'send', 'receive']\n",
    "href = items[:3]\n",
    "data = items[3:]\n",
    "print(href) #output: ['prefix', 'url', 'suffix']\n",
    "print(data) #output: ['get', 'post', 'send', 'receive']"
   ]
  },
  {
   "cell_type": "code",
   "execution_count": 36,
   "id": "ead98747",
   "metadata": {},
   "outputs": [
    {
     "name": "stdout",
     "output_type": "stream",
     "text": [
      "{'name': 'maxx', 'country': 'india', 'language': ['English', 'Hindi']}\n"
     ]
    }
   ],
   "source": [
    "dict = {\n",
    "\"name\":\"author\",\n",
    "\"country\":\"india\",\n",
    "\"language\":['English', 'Hindi'],\n",
    "\"name\":\"maxx\"\n",
    "}\n",
    "print(dict)"
   ]
  },
  {
   "cell_type": "code",
   "execution_count": 37,
   "id": "6f1feced",
   "metadata": {},
   "outputs": [
    {
     "data": {
      "text/plain": [
       "3"
      ]
     },
     "execution_count": 37,
     "metadata": {},
     "output_type": "execute_result"
    }
   ],
   "source": [
    "len(dict)"
   ]
  },
  {
   "cell_type": "code",
   "execution_count": 38,
   "id": "da36ccbb",
   "metadata": {},
   "outputs": [
    {
     "name": "stdout",
     "output_type": "stream",
     "text": [
      "maxx\n",
      "maxx\n"
     ]
    }
   ],
   "source": [
    "print(dict['name'])\n",
    "print(dict.get('name'))"
   ]
  },
  {
   "cell_type": "code",
   "execution_count": 39,
   "id": "e0f42ce0",
   "metadata": {},
   "outputs": [
    {
     "name": "stdout",
     "output_type": "stream",
     "text": [
      "dict_keys(['name', 'country', 'language'])\n"
     ]
    }
   ],
   "source": [
    "print(dict.keys())"
   ]
  },
  {
   "cell_type": "code",
   "execution_count": 40,
   "id": "a7933f8d",
   "metadata": {},
   "outputs": [
    {
     "name": "stdout",
     "output_type": "stream",
     "text": [
      "dict_values(['maxx', 'india', ['English', 'Hindi']])\n"
     ]
    }
   ],
   "source": [
    "print(dict.values())"
   ]
  },
  {
   "cell_type": "code",
   "execution_count": 41,
   "id": "5acbd922",
   "metadata": {},
   "outputs": [
    {
     "name": "stdout",
     "output_type": "stream",
     "text": [
      "dict_items([('name', 'maxx'), ('country', 'india'), ('language', ['English', 'Hindi'])])\n"
     ]
    }
   ],
   "source": [
    "print(dict.items())"
   ]
  },
  {
   "cell_type": "code",
   "execution_count": 42,
   "id": "410e22e3",
   "metadata": {},
   "outputs": [
    {
     "name": "stdout",
     "output_type": "stream",
     "text": [
      "{'name': 'admin', 'country': 'india', 'language': ['English', 'Hindi'], 'position': 'CEO'}\n"
     ]
    }
   ],
   "source": [
    "dict['position'] = 'CEO' #this will add a new key 'position'\n",
    " \n",
    "dict.update({'name':'admin'}) #this will update the value of 'name'\n",
    "\n",
    "print(dict)"
   ]
  },
  {
   "cell_type": "code",
   "execution_count": 43,
   "id": "613aba69",
   "metadata": {},
   "outputs": [
    {
     "name": "stdout",
     "output_type": "stream",
     "text": [
      "admin\n",
      "admin\n"
     ]
    }
   ],
   "source": [
    "print(dict['name'])\n",
    "print(dict.get('name'))"
   ]
  },
  {
   "cell_type": "code",
   "execution_count": 44,
   "id": "3301cf69",
   "metadata": {},
   "outputs": [
    {
     "name": "stdout",
     "output_type": "stream",
     "text": [
      "10\n"
     ]
    }
   ],
   "source": [
    "x = 20\n",
    "y = 30\n",
    "if y > x: #indented code will get executed if \"y>x\"\n",
    "    print(y-x)"
   ]
  },
  {
   "cell_type": "code",
   "execution_count": 45,
   "id": "c530c31f",
   "metadata": {},
   "outputs": [
    {
     "name": "stdout",
     "output_type": "stream",
     "text": [
      "y is smaller than x\n"
     ]
    }
   ],
   "source": [
    "x = 200\n",
    "y = 30\n",
    "if y > x: #indented code will get executed if \"y>x\"\n",
    "    print(y-x)\n",
    "else:     #else block runs when the above condition fails\n",
    "    print(\"y is smaller than x\")"
   ]
  },
  {
   "cell_type": "code",
   "execution_count": 46,
   "id": "1b26a477",
   "metadata": {},
   "outputs": [
    {
     "name": "stdout",
     "output_type": "stream",
     "text": [
      "short\n"
     ]
    }
   ],
   "source": [
    "#Try the program using different values for num variable\n",
    " \n",
    "height = -3\n",
    " \n",
    "if height > 5:\n",
    "    print('Tall')\n",
    "elif height <=5 and height >3:\n",
    "    print('Medium')\n",
    "else:\n",
    "    print('short')"
   ]
  },
  {
   "cell_type": "code",
   "execution_count": 47,
   "id": "1308d7df",
   "metadata": {},
   "outputs": [
    {
     "name": "stdout",
     "output_type": "stream",
     "text": [
      "1\n",
      "2\n",
      "3\n",
      "4\n",
      "5\n",
      "6\n",
      "7\n",
      "8\n",
      "9\n",
      "10\n"
     ]
    }
   ],
   "source": [
    "var = 1           #initialize a variable\n",
    "while var<=10:    #Test if condition is true\n",
    "    print(var)    #perform statement 1\n",
    "    var += 1      #perform statement 2"
   ]
  },
  {
   "cell_type": "code",
   "execution_count": 50,
   "id": "1f8eddbd",
   "metadata": {},
   "outputs": [
    {
     "name": "stdout",
     "output_type": "stream",
     "text": [
      "geeksforgeeks\n",
      "tutorialspoint\n",
      "javatpoint\n",
      "programiz\n"
     ]
    }
   ],
   "source": [
    "#example 1: TO print all the items inside a list\n",
    "websites = ['geeksforgeeks','tutorialspoint','javatpoint','programiz']\n",
    "for item in websites:\n",
    "    print(item) #print all the list items"
   ]
  },
  {
   "cell_type": "code",
   "execution_count": 51,
   "id": "7556d9c9",
   "metadata": {},
   "outputs": [
    {
     "name": "stdout",
     "output_type": "stream",
     "text": [
      "1\n",
      "4\n",
      "9\n",
      "16\n",
      "25\n",
      "36\n",
      "49\n",
      "64\n",
      "81\n"
     ]
    }
   ],
   "source": [
    "#example 2: To print the square of items in a given range\n",
    "for i in range(1,10):\n",
    "    print(i*i) #print the squares of 1 to 9"
   ]
  },
  {
   "cell_type": "code",
   "execution_count": 53,
   "id": "d7046e99",
   "metadata": {},
   "outputs": [
    {
     "name": "stdout",
     "output_type": "stream",
     "text": [
      "Python SEO Beginners Tutorial\n"
     ]
    }
   ],
   "source": [
    "#function1: no argument passed\n",
    "def show_title():\n",
    "    print(\"Python SEO Beginners Tutorial\")\n",
    "\n",
    "show_title() #output: Python SEO Beginners Tutorial"
   ]
  },
  {
   "cell_type": "code",
   "execution_count": 54,
   "id": "2db6f766",
   "metadata": {},
   "outputs": [
    {
     "name": "stdout",
     "output_type": "stream",
     "text": [
      "J K Rowling\n"
     ]
    }
   ],
   "source": [
    "#function2: with two arguments of type string\n",
    "def fullname(fname,lname):\n",
    "    print(fname+\" \"+lname)\n",
    "    \n",
    "fname = \"J K\"\n",
    "lname = \"Rowling\"\n",
    "fullname(fname,lname) #output:J K Rowling"
   ]
  },
  {
   "cell_type": "code",
   "execution_count": 55,
   "id": "219ceb53",
   "metadata": {},
   "outputs": [
    {
     "name": "stdout",
     "output_type": "stream",
     "text": [
      "2019\n",
      "Toyota\n",
      "1000000\n",
      "2019 Toyota 1000000\n",
      "None\n"
     ]
    }
   ],
   "source": [
    "class Car:  #define a Car object, its attributes and behavior\n",
    "    #defining object attributes\n",
    "    def __init__(self, year, make, price):\n",
    "        self.year = year\n",
    "        self.make = make\n",
    "        self.price = price\n",
    "        \n",
    "    #defining object method\n",
    "    def details(self):\n",
    "        print(str(self.year)+\" \"+self.make+\" \"+str(self.price))\n",
    "\n",
    "car1 = Car(2019,\"Toyota\",1000000) #make aobject instance of class Car\n",
    "print(car1.year)\n",
    "print(car1.make)\n",
    "print(car1.price)\n",
    "print(car1.details())"
   ]
  },
  {
   "cell_type": "code",
   "execution_count": 56,
   "id": "154d5bc6",
   "metadata": {},
   "outputs": [
    {
     "name": "stdout",
     "output_type": "stream",
     "text": [
      "Enter name of employee:Pythonwa\n",
      "Pythonwa\n"
     ]
    }
   ],
   "source": [
    "name = input(\"Enter name of employee:\")\n",
    "print(name)"
   ]
  },
  {
   "cell_type": "markdown",
   "id": "3ec1f78c",
   "metadata": {},
   "source": [
    "## More Useful Python SEO Resources\n",
    "\n",
    "1. [W3Schools Python Tutorials](https://www.w3schools.com/python/): To get in-depth knowledge of Python Language\n",
    "2. [Holistic SEO](https://www.holisticseo.digital/python-seo/) by Koray Tuğberk GÜBÜR: In-depth Python SEO Blog\n",
    "3. [Elias Dabbas](https://twitter.com/eliasdabbas): For Data Science, Search Marketing. Check out his [Github Repository](https://github.com/eliasdabbas)\n",
    "4. [JC Chouinard](https://www.jcchouinard.com/python-for-seo/): For Python SEO Learning\n",
    "\n",
    "\n",
    "Special mention: [Python Updates for SEO](https://paragpallavsingh.com/tag/python/): To get latest Python updates on my blog😅.\n"
   ]
  }
 ],
 "metadata": {
  "kernelspec": {
   "display_name": "Python 3 (ipykernel)",
   "language": "python",
   "name": "python3"
  },
  "language_info": {
   "codemirror_mode": {
    "name": "ipython",
    "version": 3
   },
   "file_extension": ".py",
   "mimetype": "text/x-python",
   "name": "python",
   "nbconvert_exporter": "python",
   "pygments_lexer": "ipython3",
   "version": "3.9.10"
  }
 },
 "nbformat": 4,
 "nbformat_minor": 5
}
